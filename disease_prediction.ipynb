{
  "nbformat": 4,
  "nbformat_minor": 0,
  "metadata": {
    "colab": {
      "provenance": [],
      "gpuType": "V28",
      "authorship_tag": "ABX9TyPsNlGlHjshKOXNfM3NiDDu",
      "include_colab_link": true
    },
    "kernelspec": {
      "name": "python3",
      "display_name": "Python 3"
    },
    "language_info": {
      "name": "python"
    },
    "accelerator": "TPU"
  },
  "cells": [
    {
      "cell_type": "markdown",
      "metadata": {
        "id": "view-in-github",
        "colab_type": "text"
      },
      "source": [
        "<a href=\"https://colab.research.google.com/github/mega-317/medical-specialty-prediction/blob/main/disease_prediction.ipynb\" target=\"_parent\"><img src=\"https://colab.research.google.com/assets/colab-badge.svg\" alt=\"Open In Colab\"/></a>"
      ]
    },
    {
      "cell_type": "code",
      "execution_count": 2,
      "metadata": {
        "colab": {
          "base_uri": "https://localhost:8080/"
        },
        "id": "YTCB7UEFMofr",
        "outputId": "1af33e31-7f80-4357-dedd-c622908cdafe"
      },
      "outputs": [
        {
          "output_type": "stream",
          "name": "stderr",
          "text": [
            "Asking to truncate to max_length but no maximum length is provided and the model has no predefined maximum length. Default to no truncation.\n"
          ]
        },
        {
          "output_type": "stream",
          "name": "stdout",
          "text": [
            "\n",
            "[각 질병에 대한 유사도]\n",
            "감기: 0.6790\n",
            "독감: 0.6178\n",
            "당뇨병: 0.6838\n",
            "고혈압: 0.6825\n",
            "지주막하출혈: 0.5874\n",
            "추간판탈출증: 0.7020\n",
            "알츠하이머: 0.6023\n",
            "예측된 질병: 추간판탈출증\n"
          ]
        }
      ],
      "source": [
        "# 라이브러리 임포트\n",
        "from transformers import AutoTokenizer, AutoModel\n",
        "import torch\n",
        "from sklearn.metrics.pairwise import cosine_similarity\n",
        "\n",
        "# 1. KM-BERT 불러오기\n",
        "model_name = \"madatnlp/km-bert\"\n",
        "tokenizer = AutoTokenizer.from_pretrained(model_name)\n",
        "bert_model = AutoModel.from_pretrained(model_name)\n",
        "bert_model.eval()  # 평가 모드 (학습 X)\n",
        "\n",
        "device = torch.device('cuda' if torch.cuda.is_available() else 'cpu')\n",
        "bert_model.to(device)\n",
        "\n",
        "# 2. 질병 목록 준비\n",
        "disease_list = [\"감기\", \"독감\", \"당뇨병\", \"고혈압\", \"지주막하출혈\", \"추간판탈출증\", \"알츠하이머\"]\n",
        "\n",
        "# 3. 질병명을 벡터화\n",
        "def get_sentence_embedding(sentence):\n",
        "    inputs = tokenizer(sentence, return_tensors=\"pt\", truncation=True, padding=True)\n",
        "    inputs = {key: val.to(device) for key, val in inputs.items()}\n",
        "    with torch.no_grad():\n",
        "        outputs = bert_model(**inputs)\n",
        "        cls_embedding = outputs.last_hidden_state[:, 0, :]  # [CLS] 토큰\n",
        "    return cls_embedding.cpu()\n",
        "\n",
        "disease_embeddings = []\n",
        "for disease in disease_list:\n",
        "    emb = get_sentence_embedding(disease)\n",
        "    disease_embeddings.append(emb)\n",
        "\n",
        "# 병 이름 임베딩들을 하나의 텐서로 합치기\n",
        "disease_embeddings = torch.cat(disease_embeddings, dim=0)  # (5, hidden_size)\n",
        "\n",
        "# 4. 증상 문장을 입력받아 예측하는 함수\n",
        "def predict_disease(symptom_sentence):\n",
        "    symptom_emb = get_sentence_embedding(symptom_sentence)  # (1, hidden_size)\n",
        "\n",
        "    # 코사인 유사도 계산\n",
        "    similarities = cosine_similarity(symptom_emb.numpy(), disease_embeddings.numpy())  # (1, 5)\n",
        "\n",
        "    # 유사도 하나씩 출력\n",
        "    print(\"\\n[각 질병에 대한 유사도]\")\n",
        "    for idx, disease in enumerate(disease_list):\n",
        "        print(f\"{disease}: {similarities[0][idx]:.4f}\")\n",
        "\n",
        "    best_idx = similarities.argmax()\n",
        "    predicted_disease = disease_list[best_idx]\n",
        "    confidence = similarities[0][best_idx]\n",
        "\n",
        "    return predicted_disease, confidence\n",
        "\n",
        "# 5. 테스트\n",
        "user_symptom = \"허리 쪽에 갑자기 통증이 심해져서 허리를 못 굽히겠어요\"\n",
        "predicted_disease, confidence = predict_disease(user_symptom)\n",
        "\n",
        "print(f\"예측된 질병: {predicted_disease}\")\n"
      ]
    }
  ]
}