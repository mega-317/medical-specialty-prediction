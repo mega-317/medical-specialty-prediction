{
  "nbformat": 4,
  "nbformat_minor": 0,
  "metadata": {
    "colab": {
      "provenance": [],
      "gpuType": "V28",
      "authorship_tag": "ABX9TyMuVUJMtpFvMF0RZDKsn40B",
      "include_colab_link": true
    },
    "kernelspec": {
      "name": "python3",
      "display_name": "Python 3"
    },
    "language_info": {
      "name": "python"
    },
    "accelerator": "TPU"
  },
  "cells": [
    {
      "cell_type": "markdown",
      "metadata": {
        "id": "view-in-github",
        "colab_type": "text"
      },
      "source": [
        "<a href=\"https://colab.research.google.com/github/mega-317/medical-specialty-prediction/blob/main/specialty_prediction.ipynb\" target=\"_parent\"><img src=\"https://colab.research.google.com/assets/colab-badge.svg\" alt=\"Open In Colab\"/></a>"
      ]
    },
    {
      "cell_type": "code",
      "execution_count": 5,
      "metadata": {
        "colab": {
          "base_uri": "https://localhost:8080/"
        },
        "id": "0Q6te1ae4k-B",
        "outputId": "393ec7ce-6f92-4abd-85a4-c0dbf21b3680"
      },
      "outputs": [
        {
          "output_type": "stream",
          "name": "stderr",
          "text": [
            "Asking to truncate to max_length but no maximum length is provided and the model has no predefined maximum length. Default to no truncation.\n"
          ]
        },
        {
          "output_type": "stream",
          "name": "stdout",
          "text": [
            "Epoch 1 | Loss: 5.0252\n",
            "Epoch 2 | Loss: 4.8914\n",
            "Epoch 3 | Loss: 4.4426\n",
            "Epoch 4 | Loss: 4.0846\n",
            "Epoch 5 | Loss: 3.8952\n",
            "Epoch 6 | Loss: 4.4047\n",
            "Epoch 7 | Loss: 4.6841\n",
            "Epoch 8 | Loss: 3.8296\n",
            "Epoch 9 | Loss: 3.3821\n",
            "Epoch 10 | Loss: 3.3543\n",
            "예측된 진료과: 신경과\n"
          ]
        }
      ],
      "source": [
        "import torch\n",
        "import torch.nn as nn\n",
        "import torch.optim as optim\n",
        "from transformers import AutoTokenizer, AutoModel\n",
        "from sklearn.model_selection import train_test_split\n",
        "import numpy as np\n",
        "\n",
        "# 1. KM-BERT 불러오기\n",
        "model_name = \"madatnlp/km-bert\"\n",
        "tokenizer = AutoTokenizer.from_pretrained(model_name)\n",
        "bert_model = AutoModel.from_pretrained(model_name)\n",
        "\n",
        "# 2. 진료과 정의\n",
        "specialties = [\"내과\", \"신경과\", \"정신과\", \"소아청소년과\", \"정형외과\"]\n",
        "num_classes = len(specialties)\n",
        "\n",
        "# 3. BERT + 분류기 구성\n",
        "class BERTClassifier(nn.Module):\n",
        "    def __init__(self, bert, hidden_size=256, num_classes=num_classes):\n",
        "        super(BERTClassifier, self).__init__()\n",
        "        self.bert = bert\n",
        "        self.fc1 = nn.Linear(bert.config.hidden_size, hidden_size)\n",
        "        self.dropout = nn.Dropout(0.3)\n",
        "        self.fc2 = nn.Linear(hidden_size, num_classes)\n",
        "\n",
        "    def forward(self, input_ids, attention_mask):\n",
        "        outputs = self.bert(input_ids=input_ids, attention_mask=attention_mask)\n",
        "        cls_token = outputs.last_hidden_state[:, 0, :]  # [CLS] 토큰 사용\n",
        "        x = self.fc1(cls_token)\n",
        "        x = torch.relu(x)\n",
        "        x = self.dropout(x)\n",
        "        x = self.fc2(x)\n",
        "        return x\n",
        "\n",
        "# 4. 학습 데이터 준비\n",
        "texts = [\n",
        "    \"열이 나고 기침이 심해요\",        # 내과\n",
        "    \"두통이 계속되고 어지러워요\",      # 신경과\n",
        "    \"최근 불안하고 우울감이 심해요\",    # 정신과\n",
        "    \"아이 열이 계속 나요\",             # 소아청소년과\n",
        "    \"팔이 부러졌어요\",                # 정형외과\n",
        "]\n",
        "labels = [0, 1, 2, 3, 4]  # specialties 인덱스\n",
        "\n",
        "# 5. 토크나이징\n",
        "encodings = tokenizer(texts, truncation=True, padding=True, return_tensors=\"pt\")\n",
        "\n",
        "# 6. 데이터셋 클래스 정의\n",
        "class SymptomDataset(torch.utils.data.Dataset):\n",
        "    def __init__(self, encodings, labels):\n",
        "        self.encodings = encodings\n",
        "        self.labels = labels\n",
        "\n",
        "    def __getitem__(self, idx):\n",
        "        item = {key: val[idx] for key, val in self.encodings.items()}\n",
        "        item['labels'] = torch.tensor(self.labels[idx])\n",
        "        return item\n",
        "\n",
        "    def __len__(self):\n",
        "        return len(self.labels)\n",
        "\n",
        "dataset = SymptomDataset(encodings, labels)\n",
        "dataloader = torch.utils.data.DataLoader(dataset, batch_size=2, shuffle=True)\n",
        "\n",
        "# 7. 모델 초기화\n",
        "device = torch.device('cuda' if torch.cuda.is_available() else 'cpu')\n",
        "model = BERTClassifier(bert_model)\n",
        "model.to(device)\n",
        "\n",
        "# 옵티마이저, 손실 함수 설정\n",
        "optimizer = optim.Adam(model.parameters(), lr=3e-5)\n",
        "criterion = nn.CrossEntropyLoss()\n",
        "\n",
        "# 8. 모델 학습\n",
        "model.train()\n",
        "epochs = 10\n",
        "\n",
        "for epoch in range(epochs):\n",
        "    total_loss = 0\n",
        "    for batch in dataloader:\n",
        "        optimizer.zero_grad()\n",
        "        input_ids = batch['input_ids'].to(device)\n",
        "        attention_mask = batch['attention_mask'].to(device)\n",
        "        labels = batch['labels'].to(device)\n",
        "\n",
        "        outputs = model(input_ids=input_ids, attention_mask=attention_mask)\n",
        "        loss = criterion(outputs, labels)\n",
        "        loss.backward()\n",
        "        optimizer.step()\n",
        "\n",
        "        total_loss += loss.item()\n",
        "    print(f\"Epoch {epoch+1} | Loss: {total_loss:.4f}\")\n",
        "\n",
        "# 9. 예측 함수\n",
        "def predict_specialty(sentence):\n",
        "    model.eval()\n",
        "    inputs = tokenizer(sentence, truncation=True, padding=True, return_tensors=\"pt\")\n",
        "    input_ids = inputs['input_ids'].to(device)\n",
        "    attention_mask = inputs['attention_mask'].to(device)\n",
        "\n",
        "    with torch.no_grad():\n",
        "        outputs = model(input_ids=input_ids, attention_mask=attention_mask)\n",
        "        probs = torch.softmax(outputs, dim=1)\n",
        "        pred_class = torch.argmax(probs, dim=1).item()\n",
        "    return specialties[pred_class]\n",
        "\n",
        "# 10. 사용자 입력 테스트\n",
        "user_sentence = \"자고 일어날 때마다 자꾸 머리가 아파요\"\n",
        "predicted_specialty = predict_specialty(user_sentence)\n",
        "print(f\"예측된 진료과: {predicted_specialty}\")\n"
      ]
    }
  ]
}